{
 "cells": [
  {
   "cell_type": "code",
   "execution_count": 5,
   "metadata": {},
   "outputs": [
    {
     "name": "stdout",
     "output_type": "stream",
     "text": [
      "2063 1005 2073315\n"
     ]
    }
   ],
   "source": [
    "# Task 1\n",
    "with open(\"input_2.txt\", \"r\") as input_file:\n",
    "    values = [line.rstrip().split() for line in input_file]\n",
    "\n",
    "horizontal = 0\n",
    "depth = 0\n",
    "\n",
    "for move in values:\n",
    "    match move[0]:\n",
    "        case 'forward':\n",
    "            horizontal += int(move[1])\n",
    "        case 'down':\n",
    "            depth += int(move[1])\n",
    "        case 'up':\n",
    "            depth -= int(move[1])\n",
    "\n",
    "print(horizontal, depth, horizontal*depth)"
   ]
  },
  {
   "cell_type": "code",
   "execution_count": 6,
   "metadata": {},
   "outputs": [
    {
     "name": "stdout",
     "output_type": "stream",
     "text": [
      "2063 892056 1840311528\n"
     ]
    }
   ],
   "source": [
    "# Task 2\n",
    "with open(\"input_2.txt\", \"r\") as input_file:\n",
    "    values = [line.rstrip().split() for line in input_file]\n",
    "\n",
    "horizontal = 0\n",
    "depth = 0\n",
    "aim = 0\n",
    "\n",
    "for move in values:\n",
    "    match move[0]:\n",
    "        case 'forward':\n",
    "            horizontal += int(move[1])\n",
    "            depth += aim*int(move[1])\n",
    "        case 'down':\n",
    "            aim += int(move[1])\n",
    "        case 'up':\n",
    "            aim -= int(move[1])\n",
    "\n",
    "print(horizontal, depth, horizontal*depth)"
   ]
  }
 ],
 "metadata": {
  "interpreter": {
   "hash": "4c2742be8e40e4f99214006b219895e0719a405c02ca51fda7e721297e241928"
  },
  "kernelspec": {
   "display_name": "Python 3.10.0 64-bit",
   "language": "python",
   "name": "python3"
  },
  "language_info": {
   "codemirror_mode": {
    "name": "ipython",
    "version": 3
   },
   "file_extension": ".py",
   "mimetype": "text/x-python",
   "name": "python",
   "nbconvert_exporter": "python",
   "pygments_lexer": "ipython3",
   "version": "3.10.0"
  },
  "orig_nbformat": 4
 },
 "nbformat": 4,
 "nbformat_minor": 2
}

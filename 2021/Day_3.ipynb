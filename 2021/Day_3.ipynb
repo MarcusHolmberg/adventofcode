{
 "cells": [
  {
   "cell_type": "code",
   "execution_count": 17,
   "metadata": {},
   "outputs": [
    {
     "name": "stdout",
     "output_type": "stream",
     "text": [
      "Gamma: 110111001001\n",
      "Epsilon: 001000110110\n",
      "3529 * 566 = 1997414\n"
     ]
    }
   ],
   "source": [
    "# Task 1\n",
    "with open(\"input_3.txt\", \"r\") as input_file:\n",
    "    values = [line.rstrip() for line in input_file]\n",
    "\n",
    "\n",
    "# Convert lines to columns to count occurances of '0' and '1'\n",
    "columns = [[],[],[],[],[],[],[],[],[],[],[],[]]\n",
    "\n",
    "for line in values:\n",
    "    for index, column in enumerate(columns):\n",
    "        column.append(line[index])\n",
    "\n",
    "gamma = ''\n",
    "epsilon = ''\n",
    "for column in columns:\n",
    "    if(column.count('0') > column.count('1')):\n",
    "        gamma += '0'\n",
    "        epsilon += '1'\n",
    "    else:\n",
    "        gamma += '1'\n",
    "        epsilon += '0'\n",
    "\n",
    "print('Gamma:', gamma)\n",
    "print('Epsilon:', epsilon)\n",
    "# convert binary to decimal value and multiply for result\n",
    "print(int(gamma, 2), '*', int(epsilon,2),  '=', int(gamma, 2)*int(epsilon, 2))\n"
   ]
  },
  {
   "cell_type": "code",
   "execution_count": null,
   "metadata": {},
   "outputs": [],
   "source": [
    "# Task 2"
   ]
  }
 ],
 "metadata": {
  "interpreter": {
   "hash": "4c2742be8e40e4f99214006b219895e0719a405c02ca51fda7e721297e241928"
  },
  "kernelspec": {
   "display_name": "Python 3.10.0 64-bit",
   "language": "python",
   "name": "python3"
  },
  "language_info": {
   "codemirror_mode": {
    "name": "ipython",
    "version": 3
   },
   "file_extension": ".py",
   "mimetype": "text/x-python",
   "name": "python",
   "nbconvert_exporter": "python",
   "pygments_lexer": "ipython3",
   "version": "3.10.0"
  },
  "orig_nbformat": 4
 },
 "nbformat": 4,
 "nbformat_minor": 2
}

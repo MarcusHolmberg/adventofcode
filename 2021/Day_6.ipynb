{
 "cells": [
  {
   "cell_type": "code",
   "execution_count": 1,
   "metadata": {},
   "outputs": [
    {
     "name": "stdout",
     "output_type": "stream",
     "text": [
      "Task 1:  2012396\n"
     ]
    }
   ],
   "source": [
    "# Task 1\n",
    "with open(\"input_6.txt\", \"r\") as input_file:\n",
    "    values = [int(val) for val in ((input_file.read()).rstrip()).split(',')]\n",
    "    \n",
    "days = 80\n",
    "newSpawns = []\n",
    "\n",
    "for i in range(days):\n",
    "    values = [(x-1) if (x != 0) else 6 for x in values]\n",
    "    values[len(values):len(values)] = newSpawns\n",
    "    newSpawns = [8] * values.count(0)\n",
    "\n",
    "# Answer 352151\n",
    "print('Task 1: ',len(values))\n"
   ]
  },
  {
   "cell_type": "code",
   "execution_count": 27,
   "metadata": {},
   "outputs": [
    {
     "name": "stdout",
     "output_type": "stream",
     "text": [
      "Task 2:  1601616884019\n",
      "[141329956382, 162398235631, 171171477832, 189150930106, 208592941772, 220345821187, 252220061006, 118747584832, 137659875271]\n"
     ]
    }
   ],
   "source": [
    "# Task 2\n",
    "with open(\"input_6.txt\", \"r\") as input_file:\n",
    "    values = [int(val) for val in ((input_file.read()).rstrip()).split(',')]\n",
    "\n",
    "# new solution that tracks fish by their numbers instead, as Task 1 solution doesn't work well with higher amount of days (out of memory)\n",
    "fish = [0,0,0,0,0,0,0,0,0]\n",
    "days = 256\n",
    "\n",
    "for i in values:\n",
    "    fish[i] += 1\n",
    "\n",
    "for d in range(days):\n",
    "        fish = fish[1:] + fish[:1] #all but first + first at last place, zeros becomes 8\n",
    "        fish[6] += fish[8] #new spawns from all at last position, but in 6th position\n",
    "\n",
    "print('Task 2: ',sum(fish))\n",
    "print(fish)\n",
    "\n",
    "\n"
   ]
  }
 ],
 "metadata": {
  "interpreter": {
   "hash": "4c2742be8e40e4f99214006b219895e0719a405c02ca51fda7e721297e241928"
  },
  "kernelspec": {
   "display_name": "Python 3.10.0 64-bit",
   "language": "python",
   "name": "python3"
  },
  "language_info": {
   "codemirror_mode": {
    "name": "ipython",
    "version": 3
   },
   "file_extension": ".py",
   "mimetype": "text/x-python",
   "name": "python",
   "nbconvert_exporter": "python",
   "pygments_lexer": "ipython3",
   "version": "3.10.0"
  },
  "orig_nbformat": 4
 },
 "nbformat": 4,
 "nbformat_minor": 2
}
